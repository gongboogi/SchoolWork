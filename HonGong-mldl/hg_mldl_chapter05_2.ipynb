{
  "nbformat": 4,
  "nbformat_minor": 0,
  "metadata": {
    "colab": {
      "name": "hg_mldl chapter05-2",
      "provenance": [],
      "collapsed_sections": [],
      "authorship_tag": "ABX9TyMDE+6oFqtod1S64KIjMdcg",
      "include_colab_link": true
    },
    "kernelspec": {
      "name": "python3",
      "display_name": "Python 3"
    },
    "language_info": {
      "name": "python"
    }
  },
  "cells": [
    {
      "cell_type": "markdown",
      "metadata": {
        "id": "view-in-github",
        "colab_type": "text"
      },
      "source": [
        "<a href=\"https://colab.research.google.com/github/gongboogi/SchoolWork/blob/main/HonGong-mldl/hg_mldl_chapter05_2.ipynb\" target=\"_parent\"><img src=\"https://colab.research.google.com/assets/colab-badge.svg\" alt=\"Open In Colab\"/></a>"
      ]
    },
    {
      "cell_type": "markdown",
      "source": [
        "#**hg_mldl chapter 05-2**\n",
        "교차 검증과 그리드 서치"
      ],
      "metadata": {
        "id": "D_nUZwmMvBAv"
      }
    },
    {
      "cell_type": "markdown",
      "source": [
        "## 검증 세트\n",
        "\n",
        "테스트 세트를 사용하지 않으면 모델이 과대적합인지 과소적합인지 판단하기 어렵다.\n",
        "\n",
        "테스트 세트를 사용하지 않고 측정하는 방법 -> **훈련세트를 나눈다**\n",
        "\n",
        "이 데이터를 **검증 세트**라고 부름\n"
      ],
      "metadata": {
        "id": "YIw2GIzAvIfq"
      }
    },
    {
      "cell_type": "code",
      "source": [
        "import pandas as pd\n",
        "\n",
        "wine = pd.read_csv('https://bit.ly/wine-date')"
      ],
      "metadata": {
        "id": "wBnbZaNmvKVm"
      },
      "execution_count": null,
      "outputs": []
    },
    {
      "cell_type": "code",
      "source": [
        "data = wine[['alcohol', 'sugar', 'pH']].to_numpy()\n",
        "target = wine['class'].to_numpy()"
      ],
      "metadata": {
        "id": "59F-0pF1vFzC"
      },
      "execution_count": null,
      "outputs": []
    },
    {
      "cell_type": "code",
      "source": [
        "from sklearn.model_selection import train_test_split"
      ],
      "metadata": {
        "id": "N4qgQ-C0xegg"
      },
      "execution_count": null,
      "outputs": []
    },
    {
      "cell_type": "code",
      "source": [
        "# 훈련세트와 테스트 세트 나누기\n",
        "train_input, test_input, train_target, test_target = train_test_split(data, target, test_size=0.2, random_state=42) "
      ],
      "metadata": {
        "id": "JzfIFwe9xkxG"
      },
      "execution_count": null,
      "outputs": []
    },
    {
      "cell_type": "code",
      "source": [
        "# 훈련세트를 다시 나누기\n",
        "sub_input, val_input, sub_target, val_target = train_test_split(train_input, train_target, test_size=0.2, random_state=42) # train_input의 약 20%를 val_input(검증세트)로 만듦"
      ],
      "metadata": {
        "id": "QAFh9VTbxwqo"
      },
      "execution_count": null,
      "outputs": []
    },
    {
      "cell_type": "code",
      "source": [
        "print(sub_input.shape, val_input.shape)"
      ],
      "metadata": {
        "colab": {
          "base_uri": "https://localhost:8080/"
        },
        "id": "Oc44PblCyCpn",
        "outputId": "4a97bd34-aad5-447d-c99d-fcbfdde68841"
      },
      "execution_count": null,
      "outputs": [
        {
          "output_type": "stream",
          "name": "stdout",
          "text": [
            "(4157, 3) (1040, 3)\n"
          ]
        }
      ]
    },
    {
      "cell_type": "code",
      "source": [
        "from sklearn.tree import DecisionTreeClassifier\n",
        "dt = DecisionTreeClassifier(random_state=42)\n",
        "dt.fit(sub_input, sub_target)"
      ],
      "metadata": {
        "colab": {
          "base_uri": "https://localhost:8080/"
        },
        "id": "Ytek3opCycyw",
        "outputId": "7204c0b6-e925-47e2-e8fb-47710baed365"
      },
      "execution_count": null,
      "outputs": [
        {
          "output_type": "execute_result",
          "data": {
            "text/plain": [
              "DecisionTreeClassifier(random_state=42)"
            ]
          },
          "metadata": {},
          "execution_count": 7
        }
      ]
    },
    {
      "cell_type": "code",
      "source": [
        "print(dt.score(sub_input, sub_target))\n",
        "print(dt.score(val_input, val_target))\n"
      ],
      "metadata": {
        "colab": {
          "base_uri": "https://localhost:8080/"
        },
        "id": "UUCOH6o_yiJ-",
        "outputId": "d0147af5-45b8-4b01-ca3b-163dd042e653"
      },
      "execution_count": null,
      "outputs": [
        {
          "output_type": "stream",
          "name": "stdout",
          "text": [
            "0.9971133028626413\n",
            "0.864423076923077\n"
          ]
        }
      ]
    },
    {
      "cell_type": "markdown",
      "source": [
        "훈련세트에 과대적합 되었다."
      ],
      "metadata": {
        "id": "1L30KYJzy7pW"
      }
    },
    {
      "cell_type": "markdown",
      "source": [
        "## 교차검증\n",
        "\n",
        "검증 세트를 떼어 내어 평가한느 과정을 여러 번 반복하고\n",
        "\n",
        "평균을 내어 최종 검증 점수를 얻는다.\n",
        "<br>\n",
        "<br>\n",
        "3-폴드 교차 검증: 훈련 세트를 세 부분으로 나눠서 교차 검증을 수행하는 것.\n",
        "\n",
        "훈련세트를 몇 부분으로 나누냐에 따라 다르게 부른다. (K-폴드 교차 검증)\n"
      ],
      "metadata": {
        "id": "9Q6-_U7tzBZI"
      }
    },
    {
      "cell_type": "code",
      "source": [
        "from sklearn.model_selection import cross_validate\n",
        "scores = cross_validate(dt, train_input, train_target)\n",
        "print(scores)"
      ],
      "metadata": {
        "colab": {
          "base_uri": "https://localhost:8080/"
        },
        "id": "_zk4p9sGywad",
        "outputId": "7b318bc6-32db-4c2d-9b19-f47c1208381c"
      },
      "execution_count": null,
      "outputs": [
        {
          "output_type": "stream",
          "name": "stdout",
          "text": [
            "{'fit_time': array([0.01140594, 0.0103519 , 0.01068377, 0.01081038, 0.01022243]), 'score_time': array([0.00143528, 0.00127006, 0.00129676, 0.0012784 , 0.00120735]), 'test_score': array([0.86923077, 0.84615385, 0.87680462, 0.84889317, 0.83541867])}\n"
          ]
        }
      ]
    },
    {
      "cell_type": "code",
      "source": [
        "import numpy as np\n",
        "print(np.mean(scores['test_score'])) # 검증 폴드 점수의 평균"
      ],
      "metadata": {
        "colab": {
          "base_uri": "https://localhost:8080/"
        },
        "id": "rRJPVo_F02wH",
        "outputId": "eecd64ca-bda4-4359-8d45-2a6c48389f6b"
      },
      "execution_count": null,
      "outputs": [
        {
          "output_type": "stream",
          "name": "stdout",
          "text": [
            "0.855300214703487\n"
          ]
        }
      ]
    },
    {
      "cell_type": "code",
      "source": [
        "# 분할기 지정\n",
        "from sklearn.model_selection import StratifiedKFold\n",
        "\n",
        "scores = cross_validate(dt, train_input, train_target, cv=StratifiedKFold())\n",
        "print(np.mean(scores['test_score']))"
      ],
      "metadata": {
        "colab": {
          "base_uri": "https://localhost:8080/"
        },
        "id": "zsEdE94S07Jn",
        "outputId": "4235684a-d3c7-48d3-8beb-4aa905f212cd"
      },
      "execution_count": null,
      "outputs": [
        {
          "output_type": "stream",
          "name": "stdout",
          "text": [
            "0.855300214703487\n"
          ]
        }
      ]
    },
    {
      "cell_type": "code",
      "source": [
        "# 훈련세트를 섞은 후 10-폴드 교차 검증을 수행\n",
        "splitter = StratifiedKFold(n_splits=10, shuffle=True, random_state=42) # n_splits: 몇(k) 폴드 교차 검증을 할지 지정\n",
        "scores = cross_validate(dt, train_input, train_target, cv=splitter)\n",
        "print(np.mean(scores['test_score']))"
      ],
      "metadata": {
        "colab": {
          "base_uri": "https://localhost:8080/"
        },
        "id": "lUB3l4eA27uq",
        "outputId": "8702bf7c-5123-4528-a4ff-e94a1317385f"
      },
      "execution_count": null,
      "outputs": [
        {
          "output_type": "stream",
          "name": "stdout",
          "text": [
            "0.8574181117533719\n"
          ]
        }
      ]
    },
    {
      "cell_type": "markdown",
      "source": [
        "\n",
        "\n",
        "---\n",
        "\n",
        "## 하이퍼파라미터 튜닝\n",
        "\n",
        "**모델 파라미터**: 모델이 학습하는 파라미터\n",
        "**하이퍼파라미터**: 모델이 학습할 수 없어서 사용자가 지정해야하는 파라미터\n",
        "\n",
        "\n",
        "max_depth의 최적값은 min_samples_split 매개변수의 값이 바뀌면 함께 달라짐.\n",
        "-> 두 매개변수를 동시에 바꿔가며 최적 값을 찾아야한다.\n",
        "\n"
      ],
      "metadata": {
        "id": "_-4gUNQu3WjE"
      }
    },
    {
      "cell_type": "code",
      "source": [
        "# 그리드 서치\n",
        "\n",
        "from sklearn.model_selection import GridSearchCV\n",
        "\n",
        "params = {'min_impurity_decrease': [0.0001, 0.0002, 0.0003, 0.0004, 0.0005]}"
      ],
      "metadata": {
        "id": "t2j03EVy3cXD"
      },
      "execution_count": null,
      "outputs": []
    },
    {
      "cell_type": "code",
      "source": [
        "gs = GridSearchCV(DecisionTreeClassifier(random_state=42), params, n_jobs=-1) #그리드 서치 객체 생성 "
      ],
      "metadata": {
        "id": "qh5r-66O5fWq"
      },
      "execution_count": null,
      "outputs": []
    },
    {
      "cell_type": "code",
      "source": [
        "# 결정트리 모델 min_impurity_decrease값을 바꿔가며 총 5번 실행\n",
        "gs.fit(train_input, train_target)"
      ],
      "metadata": {
        "colab": {
          "base_uri": "https://localhost:8080/"
        },
        "id": "3bZ3kF845pMY",
        "outputId": "fdcac962-6654-4a46-b2cf-9711ba840742"
      },
      "execution_count": null,
      "outputs": [
        {
          "output_type": "execute_result",
          "data": {
            "text/plain": [
              "GridSearchCV(estimator=DecisionTreeClassifier(random_state=42), n_jobs=-1,\n",
              "             param_grid={'min_impurity_decrease': [0.0001, 0.0002, 0.0003,\n",
              "                                                   0.0004, 0.0005]})"
            ]
          },
          "metadata": {},
          "execution_count": 17
        }
      ]
    },
    {
      "cell_type": "code",
      "source": [
        "dt = gs.best_estimator_\n",
        "print(dt.score(train_input, train_target))"
      ],
      "metadata": {
        "colab": {
          "base_uri": "https://localhost:8080/"
        },
        "id": "pxQe2Mxx575o",
        "outputId": "fd81dc1d-1574-44dc-8158-e2d4b68ffcd8"
      },
      "execution_count": null,
      "outputs": [
        {
          "output_type": "stream",
          "name": "stdout",
          "text": [
            "0.9615162593804117\n"
          ]
        }
      ]
    },
    {
      "cell_type": "code",
      "source": [
        "# best_estimator_: 그리드 서치로 찾은 최적의 매개변수가 저장됨\n",
        "print(gs.best_params_)"
      ],
      "metadata": {
        "colab": {
          "base_uri": "https://localhost:8080/"
        },
        "id": "0OilCyWF6Gv7",
        "outputId": "194754d8-307a-4cf3-8b75-652594dae69e"
      },
      "execution_count": null,
      "outputs": [
        {
          "output_type": "stream",
          "name": "stdout",
          "text": [
            "{'min_impurity_decrease': 0.0001}\n"
          ]
        }
      ]
    },
    {
      "cell_type": "code",
      "source": [
        "# 각 매개변수에서 수행한 교차 검증의 평균 점수는  mean_test_score의 키에 저장\n",
        "print(gs.cv_results_['mean_test_score'])"
      ],
      "metadata": {
        "colab": {
          "base_uri": "https://localhost:8080/"
        },
        "id": "bGKDJ4NY6VsQ",
        "outputId": "b194e049-5417-41df-c5cf-5311b10d2613"
      },
      "execution_count": null,
      "outputs": [
        {
          "output_type": "stream",
          "name": "stdout",
          "text": [
            "[0.86819297 0.86453617 0.86492226 0.86780891 0.86761605]\n"
          ]
        }
      ]
    },
    {
      "cell_type": "code",
      "source": [
        "# 가장 큰 값의 인덱스 추출하기\n",
        "best_index = np.argmax(gs.cv_results_['mean_test_score'])\n",
        "print(gs.cv_results_['params'][best_index])"
      ],
      "metadata": {
        "colab": {
          "base_uri": "https://localhost:8080/"
        },
        "id": "RlM1sO3N6qXQ",
        "outputId": "ebe69962-97f6-4c57-a1a2-acf6fc634043"
      },
      "execution_count": null,
      "outputs": [
        {
          "output_type": "stream",
          "name": "stdout",
          "text": [
            "{'min_impurity_decrease': 0.0001}\n"
          ]
        }
      ]
    },
    {
      "cell_type": "markdown",
      "source": [
        "### **과정정리**\n",
        "1. 탐색할 매개변수 지정\n",
        "2. 훈련 세트에서 그리드 서치를 수행하여 최상의 평균 검증 점수가 나오는 매개 변수 조합 찾기. -> 그리드 서치 객체에 저장됨\n",
        "3. 그리드 서치는 최상의 매개변수에서 전체 훈련 세트를 사용해 최종모델 훈련. -> 그리드 서치 객체에 저장됨"
      ],
      "metadata": {
        "id": "EUeQTb-R7Bf_"
      }
    },
    {
      "cell_type": "code",
      "source": [
        "# min_impurity_decrease: 노드를 분할하기 위한 불순도 감소 최소량 지정\n",
        "params = {'min_impurity_decrease': np.arange(0.0001, 0.001, 0.0001),\n",
        "          'max_depth': range(5, 20, 1), \n",
        "          'min_samples_split': range(2, 100, 10)}"
      ],
      "metadata": {
        "id": "L-Vt3MNB7Thp"
      },
      "execution_count": null,
      "outputs": []
    },
    {
      "cell_type": "code",
      "source": [
        "gs = GridSearchCV(DecisionTreeClassifier(random_state=42), params, n_jobs=-1)\n",
        "gs.fit(train_input, train_target)"
      ],
      "metadata": {
        "colab": {
          "base_uri": "https://localhost:8080/"
        },
        "id": "HPekiSoc8H5Y",
        "outputId": "ac76d055-b0fb-4974-9533-3f4ad90695d3"
      },
      "execution_count": null,
      "outputs": [
        {
          "output_type": "execute_result",
          "data": {
            "text/plain": [
              "GridSearchCV(estimator=DecisionTreeClassifier(random_state=42), n_jobs=-1,\n",
              "             param_grid={'max_depth': range(5, 20),\n",
              "                         'min_impurity_decrease': array([0.0001, 0.0002, 0.0003, 0.0004, 0.0005, 0.0006, 0.0007, 0.0008,\n",
              "       0.0009]),\n",
              "                         'min_samples_split': range(2, 100, 10)})"
            ]
          },
          "metadata": {},
          "execution_count": 24
        }
      ]
    },
    {
      "cell_type": "code",
      "source": [
        "# 최상의 매개변수 조합 확인\n",
        "print(gs.best_params_)"
      ],
      "metadata": {
        "colab": {
          "base_uri": "https://localhost:8080/"
        },
        "id": "kPPjS7uJ8Isk",
        "outputId": "040de5c1-495c-4834-d8a9-2500753522b9"
      },
      "execution_count": null,
      "outputs": [
        {
          "output_type": "stream",
          "name": "stdout",
          "text": [
            "{'max_depth': 14, 'min_impurity_decrease': 0.0004, 'min_samples_split': 12}\n"
          ]
        }
      ]
    },
    {
      "cell_type": "code",
      "source": [
        "# 최상의 교차 검증 점수 확인\n",
        "print(np.max(gs.cv_results_['mean_test_score']))"
      ],
      "metadata": {
        "colab": {
          "base_uri": "https://localhost:8080/"
        },
        "id": "VJV1Bbp68Mc4",
        "outputId": "bb210b37-73ba-4728-c86c-988e9a253af4"
      },
      "execution_count": null,
      "outputs": [
        {
          "output_type": "stream",
          "name": "stdout",
          "text": [
            "0.8683865773302731\n"
          ]
        }
      ]
    },
    {
      "cell_type": "markdown",
      "source": [
        "### 랜덤 서치\n",
        "\n",
        "매개변수 값의 범위나 간격을 미리 정하기 어려울 때, 매개변수 값의 목록을 전달하는 것이 아니라 매개변수를 샘플링할 수 있는 확률 분포 객체를 전달.\n",
        "\n",
        "**싸이파이(scipy)라이브러리**: 적분, 보간, 선형 대수, 확률 등을 포함한 수치 계산 전용 라이브러리 "
      ],
      "metadata": {
        "id": "E0NgwFp88fsJ"
      }
    },
    {
      "cell_type": "code",
      "source": [
        "from scipy.stats import uniform, randint #uniform, randint: 주어진 범위에서 고르게 값을 뽑는다.(균등 분포에서 샘플링함)"
      ],
      "metadata": {
        "id": "kpXYxxW08nJy"
      },
      "execution_count": null,
      "outputs": []
    },
    {
      "cell_type": "code",
      "source": [
        "rgen = randint(0,10)\n",
        "rgen.rvs(10)"
      ],
      "metadata": {
        "colab": {
          "base_uri": "https://localhost:8080/"
        },
        "id": "yxk5XfNm8bt5",
        "outputId": "22cf0464-20e7-4619-ef19-b50ebcee9f30"
      },
      "execution_count": null,
      "outputs": [
        {
          "output_type": "execute_result",
          "data": {
            "text/plain": [
              "array([7, 3, 5, 0, 1, 4, 9, 6, 9, 9])"
            ]
          },
          "metadata": {},
          "execution_count": 32
        }
      ]
    },
    {
      "cell_type": "code",
      "source": [
        "np.unique(rgen.rvs(1000), return_counts=True)"
      ],
      "metadata": {
        "colab": {
          "base_uri": "https://localhost:8080/"
        },
        "id": "-2B3dPx19Ydy",
        "outputId": "ea9b742d-6f7a-4196-d0e9-3b444c5ce793"
      },
      "execution_count": null,
      "outputs": [
        {
          "output_type": "execute_result",
          "data": {
            "text/plain": [
              "(array([0, 1, 2, 3, 4, 5, 6, 7, 8, 9]),\n",
              " array([ 96,  99,  94, 112, 102,  94, 105,  87,  96, 115]))"
            ]
          },
          "metadata": {},
          "execution_count": 33
        }
      ]
    },
    {
      "cell_type": "code",
      "source": [
        "ugen = uniform(0,1)\n",
        "ugen.rvs(10)"
      ],
      "metadata": {
        "colab": {
          "base_uri": "https://localhost:8080/"
        },
        "id": "eSeoTg7P9hzo",
        "outputId": "b0d62a50-0553-4f95-b6a1-b6c66a50e83b"
      },
      "execution_count": null,
      "outputs": [
        {
          "output_type": "execute_result",
          "data": {
            "text/plain": [
              "array([0.09727261, 0.99369102, 0.84084506, 0.67798415, 0.0648257 ,\n",
              "       0.71960772, 0.32499693, 0.01200034, 0.54878154, 0.69752023])"
            ]
          },
          "metadata": {},
          "execution_count": 34
        }
      ]
    },
    {
      "cell_type": "code",
      "source": [
        "params = {'min_impurity_decrease': uniform(0.0001, 0.001),\n",
        "          'max_depth': randint(20, 50),\n",
        "          'min_samples_split': randint(2, 25),\n",
        "          'min_samples_leaf': randint(1, 25)}"
      ],
      "metadata": {
        "id": "FrTDGOJe9qKw"
      },
      "execution_count": null,
      "outputs": []
    },
    {
      "cell_type": "code",
      "source": [
        "from sklearn.model_selection import RandomizedSearchCV\n",
        "\n",
        "gs = RandomizedSearchCV(DecisionTreeClassifier(random_state=42), \n",
        "                        params, n_iter=100, n_jobs=-1, random_state=42)\n",
        "gs.fit(train_input, train_target)"
      ],
      "metadata": {
        "colab": {
          "base_uri": "https://localhost:8080/"
        },
        "id": "Q5ocXMV39wVo",
        "outputId": "2c6a41de-cd83-4d8f-e833-a9cd9543d84d"
      },
      "execution_count": null,
      "outputs": [
        {
          "output_type": "execute_result",
          "data": {
            "text/plain": [
              "RandomizedSearchCV(estimator=DecisionTreeClassifier(random_state=42),\n",
              "                   n_iter=100, n_jobs=-1,\n",
              "                   param_distributions={'max_depth': <scipy.stats._distn_infrastructure.rv_frozen object at 0x7faf970aa310>,\n",
              "                                        'min_impurity_decrease': <scipy.stats._distn_infrastructure.rv_frozen object at 0x7faf9748d2d0>,\n",
              "                                        'min_samples_leaf': <scipy.stats._distn_infrastructure.rv_frozen object at 0x7faf970aa790>,\n",
              "                                        'min_samples_split': <scipy.stats._distn_infrastructure.rv_frozen object at 0x7faf970aa490>},\n",
              "                   random_state=42)"
            ]
          },
          "metadata": {},
          "execution_count": 36
        }
      ]
    },
    {
      "cell_type": "code",
      "source": [
        "#매개변수 조합 출력\n",
        "print(gs.best_params_)"
      ],
      "metadata": {
        "colab": {
          "base_uri": "https://localhost:8080/"
        },
        "id": "KnKpDzIE93e4",
        "outputId": "4bbf429d-2143-4014-d936-79f145030041"
      },
      "execution_count": null,
      "outputs": [
        {
          "output_type": "stream",
          "name": "stdout",
          "text": [
            "{'max_depth': 39, 'min_impurity_decrease': 0.00034102546602601173, 'min_samples_leaf': 7, 'min_samples_split': 13}\n"
          ]
        }
      ]
    },
    {
      "cell_type": "code",
      "source": [
        "# 교차 검증 점수\n",
        "print(np.max(gs.cv_results_['mean_test_score']))"
      ],
      "metadata": {
        "colab": {
          "base_uri": "https://localhost:8080/"
        },
        "id": "H-enZ_pv98xR",
        "outputId": "1e76de82-7f0f-495d-9df2-79d67c0cd7b5"
      },
      "execution_count": null,
      "outputs": [
        {
          "output_type": "stream",
          "name": "stdout",
          "text": [
            "0.8695428296438884\n"
          ]
        }
      ]
    },
    {
      "cell_type": "code",
      "source": [
        "# 최적의 모델은 best_estimator_ 속성에 저장되어있다.\n",
        "dt = gs.best_estimator_\n",
        "print(dt.score(test_input, test_target))"
      ],
      "metadata": {
        "colab": {
          "base_uri": "https://localhost:8080/"
        },
        "id": "mG6o9u-z-BNQ",
        "outputId": "1421d0d6-b547-461c-cf88-4c9d5857bb9e"
      },
      "execution_count": null,
      "outputs": [
        {
          "output_type": "stream",
          "name": "stdout",
          "text": [
            "0.86\n"
          ]
        }
      ]
    }
  ]
}