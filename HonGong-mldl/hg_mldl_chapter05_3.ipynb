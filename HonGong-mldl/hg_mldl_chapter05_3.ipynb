{
  "nbformat": 4,
  "nbformat_minor": 0,
  "metadata": {
    "colab": {
      "name": "hg_mldl chapter05-3",
      "provenance": [],
      "collapsed_sections": [],
      "authorship_tag": "ABX9TyN2egnUYggEFvDxhYipya0w",
      "include_colab_link": true
    },
    "kernelspec": {
      "name": "python3",
      "display_name": "Python 3"
    },
    "language_info": {
      "name": "python"
    }
  },
  "cells": [
    {
      "cell_type": "markdown",
      "metadata": {
        "id": "view-in-github",
        "colab_type": "text"
      },
      "source": [
        "<a href=\"https://colab.research.google.com/github/gongboogi/SchoolWork/blob/main/HonGong-mldl/hg_mldl_chapter05_3.ipynb\" target=\"_parent\"><img src=\"https://colab.research.google.com/assets/colab-badge.svg\" alt=\"Open In Colab\"/></a>"
      ]
    },
    {
      "cell_type": "markdown",
      "source": [
        "#**hg_mldl chapter 05-3**\n",
        "트리의 앙상블"
      ],
      "metadata": {
        "id": "-EgBI9MHAKL2"
      }
    },
    {
      "cell_type": "markdown",
      "source": [
        "---\n",
        "### **정형 데이터와 비정형 데이터**\n",
        "정형데이터: 어떤 구조로 되어있는 데이터\n",
        "비정형 데이터: 텍스트(책), 디지털카메라 사진, 디지털 음악 등\n",
        "\n",
        "**앙상블 학습**: 더 좋은 예측 결과를 만들기 위해 여러 개의 모델을 훈련하는 머신러닝 알고리즘\n",
        "\n"
      ],
      "metadata": {
        "id": "SF6V-Gs9BGsR"
      }
    },
    {
      "cell_type": "markdown",
      "source": [
        "###**랜덤 포레스트**\n",
        "**랜덤 포레스트**: 결정 트리를 랜덤으로 만들어 숲을 만들고, 각 결정 트리의 예측을 사용하여 최종 예측을 만든다.\n",
        "\n",
        "**부트스트랩 샘플**: 데이터 세트에서 중복을 허용하여 데이터를 샘플링하는 방식 훈련 세트와 크기가 같다.\n",
        "\n"
      ],
      "metadata": {
        "id": "IXsUevk5BtJS"
      }
    },
    {
      "cell_type": "code",
      "execution_count": null,
      "metadata": {
        "id": "Jeg1Xs3jAJnY"
      },
      "outputs": [],
      "source": [
        "import numpy as np\n",
        "import pandas as pd\n",
        "from sklearn.model_selection import train_test_split\n",
        "\n",
        "wine = pd.read_csv('https://bit.ly/wine-date')"
      ]
    },
    {
      "cell_type": "code",
      "source": [
        "data = wine[['alcohol', 'sugar', 'pH']].to_numpy()\n",
        "target = wine['class'].to_numpy()\n",
        "\n",
        "train_input, test_input, train_target, test_target = train_test_split(\n",
        "    data,target, test_size=0.2, random_state=42)"
      ],
      "metadata": {
        "id": "1po8o0PsDOCh"
      },
      "execution_count": null,
      "outputs": []
    },
    {
      "cell_type": "code",
      "source": [
        "from sklearn.model_selection import cross_validate\n",
        "from sklearn.ensemble import RandomForestClassifier\n",
        "\n",
        "rf = RandomForestClassifier(n_jobs=-1, random_state=42)\n",
        "# return_train_score 매개변수를 True로 지정하면 검증점수와 훈련세트에 대한 점수를 같이 반환(기본값=False)\n",
        "scores = cross_validate(rf, train_input, train_target, return_train_score=True, n_jobs=-1) "
      ],
      "metadata": {
        "id": "d9UVGiXMDb7D"
      },
      "execution_count": null,
      "outputs": []
    },
    {
      "cell_type": "code",
      "source": [
        "print(np.mean(scores['train_score']), np.mean(scores['test_score']))"
      ],
      "metadata": {
        "colab": {
          "base_uri": "https://localhost:8080/"
        },
        "id": "CDWzbhuMESBr",
        "outputId": "d1d95a81-cd75-44c7-85db-65b7c26e8065"
      },
      "execution_count": null,
      "outputs": [
        {
          "output_type": "stream",
          "name": "stdout",
          "text": [
            "0.9973541965122431 0.8905151032797809\n"
          ]
        }
      ]
    },
    {
      "cell_type": "markdown",
      "source": [
        "-> 훈련 세트에 과대적합"
      ],
      "metadata": {
        "id": "214cRVneEa8P"
      }
    },
    {
      "cell_type": "code",
      "source": [
        "rf.fit(train_input, train_target) # 랜덤 포레스트  모델을 훈련세트에 훈련\n",
        "print(rf.feature_importances_)"
      ],
      "metadata": {
        "colab": {
          "base_uri": "https://localhost:8080/"
        },
        "id": "JPPGdibGEjXV",
        "outputId": "772d6cb8-8833-4f48-9472-0a5674dccd61"
      },
      "execution_count": null,
      "outputs": [
        {
          "output_type": "stream",
          "name": "stdout",
          "text": [
            "[0.23167441 0.50039841 0.26792718]\n"
          ]
        }
      ]
    },
    {
      "cell_type": "markdown",
      "source": [
        "**OOB(out of bag)샘플**: 부트스트랩 샘플에 포함되지 않고 남는 샘플. 검증 세트의 역할을 한다."
      ],
      "metadata": {
        "id": "xA0C-QzfFiMt"
      }
    },
    {
      "cell_type": "code",
      "source": [
        "rf = RandomForestClassifier(oob_score=True, n_jobs=-1, random_state=42)\n",
        "rf.fit(train_input, train_target)\n",
        "print(rf.oob_score_)"
      ],
      "metadata": {
        "colab": {
          "base_uri": "https://localhost:8080/"
        },
        "id": "FzeX0KIDE6V6",
        "outputId": "6781fe86-debd-4c64-b60f-403c9d710ce4"
      },
      "execution_count": null,
      "outputs": [
        {
          "output_type": "stream",
          "name": "stdout",
          "text": [
            "0.8934000384837406\n"
          ]
        }
      ]
    },
    {
      "cell_type": "markdown",
      "source": [
        "###**엑스트라 트리**\n",
        "\n",
        "부트스트랩 샘플을 사용하지 않는다. 즉, 각 결정 트리를 만들 때 전체 훈련 세트를 사용"
      ],
      "metadata": {
        "id": "JSpQXwyWGH6W"
      }
    },
    {
      "cell_type": "code",
      "source": [
        "# ExtraTreesClassifier: 사이킷런에서 제공하는 엑스트라 트리\n",
        "from sklearn.ensemble import ExtraTreesClassifier\n",
        "et = ExtraTreesClassifier(n_jobs=-1, random_state=42)\n",
        "scores = cross_validate(et, train_input, train_target, \n",
        "                        return_train_score=True, n_jobs=-1)\n",
        "\n",
        "print(np.mean(scores['train_score']), np.mean(scores['test_score']))"
      ],
      "metadata": {
        "colab": {
          "base_uri": "https://localhost:8080/"
        },
        "id": "ej0zZ39oGjnU",
        "outputId": "c3c00ead-ace0-466b-d242-4d687b04bd8c"
      },
      "execution_count": null,
      "outputs": [
        {
          "output_type": "stream",
          "name": "stdout",
          "text": [
            "0.9974503966084433 0.8887848893166506\n"
          ]
        }
      ]
    },
    {
      "cell_type": "code",
      "source": [
        "et.fit(train_input, train_target)\n",
        "print(et.feature_importances_)"
      ],
      "metadata": {
        "colab": {
          "base_uri": "https://localhost:8080/"
        },
        "id": "fAF6gC0XG2Gj",
        "outputId": "d5be8b45-cbc1-444f-e4bb-d1a5fcee0591"
      },
      "execution_count": null,
      "outputs": [
        {
          "output_type": "stream",
          "name": "stdout",
          "text": [
            "[0.20183568 0.52242907 0.27573525]\n"
          ]
        }
      ]
    },
    {
      "cell_type": "markdown",
      "source": [
        "### **그레이디언트 부스팅**\n",
        "깊이가 얕은 결정 트리를 사용하여 이전 트리의 오차를 보완하는 방식으로 앙상블.\n",
        "\n",
        "결정 트리를 연속적으로 추가하여 손실함수를 최소화한다.\n",
        "\n",
        "훈련속도가 느림. -> 개선한 앙상블: 히스토그램 기반 그레이디언트 부스팅\n",
        "\n"
      ],
      "metadata": {
        "id": "yLJNEq3UHPsf"
      }
    },
    {
      "cell_type": "code",
      "source": [
        ""
      ],
      "metadata": {
        "id": "3AA6_ryaIDru"
      },
      "execution_count": null,
      "outputs": []
    }
  ]
}